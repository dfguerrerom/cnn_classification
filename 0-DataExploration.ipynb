{
 "cells": [
  {
   "cell_type": "markdown",
   "id": "caa20351-1c25-45da-9f29-7259996bf1c4",
   "metadata": {},
   "source": [
    "## Training"
   ]
  },
  {
   "cell_type": "code",
   "execution_count": null,
   "id": "38ee8477-1a67-44fd-82a3-449757f90203",
   "metadata": {},
   "outputs": [],
   "source": [
    "%reload_ext autoreload\n",
    "%autoreload 2\n",
    "%matplotlib inline"
   ]
  },
  {
   "cell_type": "code",
   "execution_count": null,
   "id": "5bfd0e90-bb27-4599-8806-73195ff3ec8d",
   "metadata": {},
   "outputs": [],
   "source": [
    "import pandas as pd\n",
    "from config import conf\n",
    "from torch.utils.data import DataLoader\n",
    "from sklearn.model_selection import train_test_split\n",
    "from torchvision import transforms as T\n",
    "from scripts.transforms import normalize, rescale\n",
    "from scripts.dataset import PlanetDataSet\n",
    "import plotly.express as px"
   ]
  },
  {
   "cell_type": "code",
   "execution_count": null,
   "id": "95782041-d9aa-4651-9b3f-502986082703",
   "metadata": {},
   "outputs": [],
   "source": [
    "data_df = pd.read_csv(conf.data_file)\n",
    "data_df[\"lc_sub_tags\"] = data_df[\"lc_sub_tags\"].fillna(\"none\")\n",
    "data_df[\"lc_tags\"] = data_df[\"lc_tags\"].fillna(\"none\")\n",
    "data_df.head(2)"
   ]
  },
  {
   "cell_type": "code",
   "execution_count": null,
   "id": "994a9e84-6aff-45f5-867a-cac03e32243d",
   "metadata": {},
   "outputs": [],
   "source": [
    "data_df = data_df[~data_df[\"degraded_forest\"].isna()]\n",
    "data_df[\"degraded_forest\"] = data_df[\"degraded_forest\"].astype(str)\n",
    "len(data_df)"
   ]
  },
  {
   "cell_type": "code",
   "execution_count": null,
   "id": "bc91496a-58b5-459f-84a4-7f80e2937fd3",
   "metadata": {},
   "outputs": [],
   "source": [
    "transforms = T.Compose(\n",
    "    [\n",
    "        rescale((32, 32)),\n",
    "        # normalize(mean=[0.485, 0.456, 0.406], std=[0.229, 0.224, 0.225],),\n",
    "    ]\n",
    ")"
   ]
  },
  {
   "cell_type": "code",
   "execution_count": null,
   "id": "b617da7b-a298-4530-aa69-84ab63f82b92",
   "metadata": {},
   "outputs": [],
   "source": [
    "planet_dataset = PlanetDataSet(\n",
    "    root=conf.train_imgs_path,\n",
    "    data_df=data_df,\n",
    "    label_col=\"lc_tags\",\n",
    "    transforms=transforms,\n",
    ")\n",
    "all_tags_dict = planet_dataset.class_to_idx\n",
    "all_tags_dict"
   ]
  },
  {
   "cell_type": "code",
   "execution_count": null,
   "id": "e55fa4fa-fd79-4c82-8b24-895e2f9aa4f9",
   "metadata": {},
   "outputs": [],
   "source": [
    "degraded_df = data_df.groupby(by=[\"lc_tags\"]).count().reset_index()\n",
    "degraded_df = degraded_df.sort_values(by=[\"lc_sub_tags\"], ascending=False)\n",
    "degraded_df"
   ]
  },
  {
   "cell_type": "code",
   "execution_count": null,
   "id": "13a79427-855d-481d-9b41-e6c01489598f",
   "metadata": {},
   "outputs": [],
   "source": [
    "grassland = data_df[data_df.lc_tags == \"Grassland\"].sample(90)\n",
    "forest = data_df[data_df.lc_tags == \"Forest\"].sample(90)\n",
    "other_land = data_df[data_df.lc_tags == \"Otherland\"].sample(90)\n",
    "rest = data_df[~data_df.lc_tags.isin([\"Grassland\", \"Forest\", \"Otherland\"])]\n",
    "\n",
    "lc_df = pd.concat([grassland, forest, other_land, rest])\n",
    "\n",
    "lc_df = lc_df.groupby(by=[\"lc_tags\"]).count().reset_index()\n",
    "lc_df = lc_df.sort_values(by=[\"lc_sub_tags\"], ascending=False)\n",
    "lc_df"
   ]
  },
  {
   "cell_type": "code",
   "execution_count": null,
   "id": "a56e8988-cdaa-4986-aa88-42c362c25fa5",
   "metadata": {},
   "outputs": [],
   "source": [
    "fig = px.bar(\n",
    "    lc_df,\n",
    "    y=\"lc_tags\",\n",
    "    x=\"multiple\",\n",
    "    title=\"land cover classes distribution\",\n",
    "    orientation=\"h\",\n",
    "    labels={\"lc_tags\": \"lc_tags\", \"multiple\": \"Count number\"},\n",
    ")\n",
    "fig.update_traces(\n",
    "    marker=dict(\n",
    "        color=\"rgba(164, 163, 204, 0.85)\",\n",
    "        line=dict(color=\"rgb(248, 248, 249)\", width=1),\n",
    "    )\n",
    ")\n",
    "fig.show()"
   ]
  },
  {
   "cell_type": "code",
   "execution_count": null,
   "id": "753963d6-4dc6-4fb6-a8bc-8d6df988d30c",
   "metadata": {},
   "outputs": [],
   "source": []
  },
  {
   "cell_type": "code",
   "execution_count": null,
   "id": "2220dc74-d98a-4b81-a6a6-af37e6a54099",
   "metadata": {},
   "outputs": [],
   "source": []
  }
 ],
 "metadata": {
  "kernelspec": {
   "display_name": "Python 3",
   "language": "python",
   "name": "python3"
  },
  "language_info": {
   "codemirror_mode": {
    "name": "ipython",
    "version": 3
   },
   "file_extension": ".py",
   "mimetype": "text/x-python",
   "name": "python",
   "nbconvert_exporter": "python",
   "pygments_lexer": "ipython3",
   "version": "3.8.10"
  }
 },
 "nbformat": 4,
 "nbformat_minor": 5
}
