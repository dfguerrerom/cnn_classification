{
 "cells": [
  {
   "cell_type": "markdown",
   "id": "a7f099b6-0c22-4339-a3c6-0ec1a56610dd",
   "metadata": {
    "tags": []
   },
   "source": [
    "## Multi-label prediction in kenya\n",
    "\n",
    "- The purpose would be to train an NN to multi-label planet imagery based on labels collected on high-resolution image.\n",
    "- Predict the different coverage percentage of every type of land cover based on the visual interpretation."
   ]
  },
  {
   "cell_type": "code",
   "execution_count": null,
   "id": "8be0dfdd-fac9-48b6-be99-be177e11f637",
   "metadata": {},
   "outputs": [],
   "source": [
    "%reload_ext autoreload\n",
    "%autoreload 2\n",
    "%matplotlib inline"
   ]
  },
  {
   "cell_type": "code",
   "execution_count": null,
   "id": "4df4688e-4506-4315-a182-637c72e1fe74",
   "metadata": {},
   "outputs": [],
   "source": [
    "import pandas as pd\n",
    "from matplotlib import pyplot as plt\n",
    "import rasterio as rio\n",
    "from rasterio.plot import show\n",
    "from config import conf\n",
    "import numpy as np\n",
    "import cv2"
   ]
  },
  {
   "cell_type": "code",
   "execution_count": null,
   "id": "902afa31-6c84-46b5-a491-87c5491c1607",
   "metadata": {},
   "outputs": [],
   "source": [
    "raw_data = pd.read_csv(conf.label_path / \"Kenya_final_data_coded.csv\", low_memory=False)\n",
    "# Remove undersired rows\n",
    "raw_data = raw_data[~raw_data.id.str.contains(\"CHANGE\")]"
   ]
  },
  {
   "cell_type": "code",
   "execution_count": null,
   "id": "cad59e92-3b60-43cd-89f3-c95449d25138",
   "metadata": {},
   "outputs": [],
   "source": [
    "target_cols = [\n",
    "    \"land_use_category_label\",\n",
    "    \"land_use_subcategory_label\",\n",
    "    \"land_use_subdivision_label\",\n",
    "    \"degraded_forest\",\n",
    "    \"topographyroad_coverage\",\n",
    "    \"topographyriver_coverage\",\n",
    "    \"topographylake_coverage\",\n",
    "    \"topographyhouse_coverage\",\n",
    "    \"topographycrops_coverage\",\n",
    "    \"topographytrees_coverage\",\n",
    "    \"topographygrass_coverage\",\n",
    "    \"topographybush_coverage\",\n",
    "    \"topographybareSoil_coverage\",\n",
    "    \"land_use_multiple\",\n",
    "];"
   ]
  },
  {
   "cell_type": "code",
   "execution_count": null,
   "id": "57a97e2c-351b-470b-bdb0-c23687ef4d6d",
   "metadata": {},
   "outputs": [],
   "source": [
    "topo_cols = np.array([col for col in target_cols if \"topo\" in col], dtype=np.str_)\n",
    "topo_labels = np.array(\n",
    "    [col.replace(\"topography\", \"\").replace(\"_coverage\", \"\") for col in topo_cols]\n",
    ")\n",
    "topo_labels;"
   ]
  },
  {
   "cell_type": "code",
   "execution_count": null,
   "id": "47879a16-fdb6-40ae-9a4b-ff037ef66a9c",
   "metadata": {},
   "outputs": [],
   "source": [
    "# Get all the different ranges from all the topography tags.\n",
    "unique_ranges = raw_data[topo_cols].apply(lambda x: x.unique().tolist())\n",
    "topo_ranges = sorted(\n",
    "    pd.Series(\n",
    "        [\n",
    "            item\n",
    "            for sublist in unique_ranges.values.squeeze().tolist()\n",
    "            for item in sublist\n",
    "        ]\n",
    "    )\n",
    "    .unique()\n",
    "    .tolist()\n",
    ")\n",
    "topo_ranges;"
   ]
  },
  {
   "cell_type": "code",
   "execution_count": null,
   "id": "cc2050e8-bde4-4735-873e-475f4c2dbf22",
   "metadata": {},
   "outputs": [],
   "source": [
    "# Define a range to consider that a topo element is consider representative in the plot\n",
    "topo_thres = [\n",
    "    \"40-49\",\n",
    "    \"50-59\",\n",
    "    \"60-69\",\n",
    "    \"70-79\",\n",
    "    \"80-89\",\n",
    "    \"90-100\",\n",
    "]"
   ]
  },
  {
   "cell_type": "code",
   "execution_count": null,
   "id": "0a350ce5-d021-4c99-8f72-f8c2c4673d30",
   "metadata": {},
   "outputs": [],
   "source": [
    "topo_labels"
   ]
  },
  {
   "cell_type": "code",
   "execution_count": null,
   "id": "96896395-0d12-41d2-98ab-39d72f434f1f",
   "metadata": {},
   "outputs": [],
   "source": [
    "# Merge all topography_tags in one cell based on the topo threshold.\n",
    "raw_data[\"topo_tags\"] = raw_data[topo_cols].apply(\n",
    "    lambda row: \",\".join(\n",
    "        topo_labels[[True if cat in topo_thres else False for cat in row]]\n",
    "    ),\n",
    "    axis=1,\n",
    ")"
   ]
  },
  {
   "cell_type": "code",
   "execution_count": null,
   "id": "defbb147-aa90-4ab3-ace0-bf0a4cb7007b",
   "metadata": {},
   "outputs": [],
   "source": [
    "# Merge all topography_tags in one cell based on the topo threshold.\n",
    "raw_data[\"topo_tags\"] = raw_data[topo_cols].apply(\n",
    "    lambda row: \",\".join(\n",
    "        topo_labels[[True if cat in topo_thres else False for cat in row]]\n",
    "    ),\n",
    "    axis=1,\n",
    ")\n",
    "\n",
    "data_df = raw_data.rename(\n",
    "    columns={\n",
    "        \"land_use_category_label\": \"lc_tags\",\n",
    "        \"land_use_subdivision_label\": \"lc_sub_tags\",\n",
    "        \"land_use_multiple\": \"multiple\",\n",
    "    }\n",
    ")\n",
    "\n",
    "\n",
    "data_df = data_df[\n",
    "    [\n",
    "        \"id\",\n",
    "        \"multiple\",\n",
    "        \"lc_tags\",\n",
    "        \"lc_sub_tags\",\n",
    "        \"degraded_forest\",\n",
    "        \"topo_tags\",\n",
    "    ]\n",
    "]\n",
    "data_df = data_df.reset_index(drop=True)\n",
    "data_df.to_csv(conf.data_file)"
   ]
  },
  {
   "cell_type": "code",
   "execution_count": null,
   "id": "9822ce39-ad42-4047-ad39-1f97cc53f538",
   "metadata": {},
   "outputs": [],
   "source": [
    "conf.data_file"
   ]
  },
  {
   "cell_type": "code",
   "execution_count": null,
   "id": "219c870b-665d-4102-927b-9c8d2f19186f",
   "metadata": {},
   "outputs": [],
   "source": [
    "data_df"
   ]
  }
 ],
 "metadata": {
  "kernelspec": {
   "display_name": "Python 3",
   "language": "python",
   "name": "python3"
  },
  "language_info": {
   "codemirror_mode": {
    "name": "ipython",
    "version": 3
   },
   "file_extension": ".py",
   "mimetype": "text/x-python",
   "name": "python",
   "nbconvert_exporter": "python",
   "pygments_lexer": "ipython3",
   "version": "3.8.10"
  }
 },
 "nbformat": 4,
 "nbformat_minor": 5
}
