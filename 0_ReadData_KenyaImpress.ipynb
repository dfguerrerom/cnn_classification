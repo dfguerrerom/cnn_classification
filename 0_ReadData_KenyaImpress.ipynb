{
 "cells": [
  {
   "cell_type": "markdown",
   "id": "a7f099b6-0c22-4339-a3c6-0ec1a56610dd",
   "metadata": {
    "tags": []
   },
   "source": [
    "## Read data from Kenya impress\n",
    "\n",
    "The following workflow is made to read survey data from Kenya impress project and put it in a good format"
   ]
  },
  {
   "cell_type": "code",
   "execution_count": null,
   "id": "8be0dfdd-fac9-48b6-be99-be177e11f637",
   "metadata": {},
   "outputs": [],
   "source": [
    "%reload_ext autoreload\n",
    "%autoreload 2\n",
    "%matplotlib inline"
   ]
  },
  {
   "cell_type": "code",
   "execution_count": null,
   "id": "4df4688e-4506-4315-a182-637c72e1fe74",
   "metadata": {},
   "outputs": [],
   "source": [
    "import pandas as pd\n",
    "from matplotlib import pyplot as plt\n",
    "import rasterio as rio\n",
    "from rasterio.plot import show\n",
    "from config import config_imp as conf\n",
    "import numpy as np\n",
    "import cv2"
   ]
  },
  {
   "cell_type": "code",
   "execution_count": null,
   "id": "902afa31-6c84-46b5-a491-87c5491c1607",
   "metadata": {},
   "outputs": [],
   "source": [
    "raw_data = pd.read_csv(conf.raw_data_file, low_memory=False)\n",
    "# Remove undersired rows"
   ]
  },
  {
   "cell_type": "code",
   "execution_count": null,
   "id": "cad59e92-3b60-43cd-89f3-c95449d25138",
   "metadata": {},
   "outputs": [],
   "source": [
    "target_cols = [\n",
    "    \"id\",\n",
    "    \"lon\",\n",
    "    \"lat\",\n",
    "    \"size_m\",\n",
    "    \"confidence\",\n",
    "    \"acq_date\",\n",
    "    \"analysis_duration\",\n",
    "    \"pl_strata\",\n",
    "    \"survey\",\n",
    "    \"LC_2021\",\n",
    "    \"LCType_2021\",\n",
    "    \"FL_2021\",\n",
    "    \"PL_2021\",\n",
    "    \"FCC_2021\",\n",
    "    \"FCC_Class_2021\",\n",
    "    \"LC_2018\",\n",
    "    \"LCType_2018\",\n",
    "    \"FL_2018\",\n",
    "    \"PL_2018\",\n",
    "    \"FCC_2018\",\n",
    "    \"FCC_Class_2018\",\n",
    "    \"LC_2017\",\n",
    "    \"LCType_2017\",\n",
    "    \"FL_2017\",\n",
    "    \"PL_2017\",\n",
    "    \"FCC_2017\",\n",
    "    \"FCC_Class_2017\",\n",
    "    \"LC_2013\",\n",
    "    \"LCType_2013\",\n",
    "    \"FL_2013\",\n",
    "    \"PL_2013\",\n",
    "    \"FCC_2013\",\n",
    "    \"FCC_Class_2013\",\n",
    "]"
   ]
  },
  {
   "cell_type": "code",
   "execution_count": null,
   "id": "5ff0f093-5403-49b8-bc2c-f1a3fe773edd",
   "metadata": {},
   "outputs": [],
   "source": [
    "data_df = raw_data.copy()\n",
    "data_df.rename(\n",
    "    columns={\"plotid\": \"id\", \"center_lon\": \"lon\", \"center_lat\": \"lat\"}, inplace=True\n",
    ")\n",
    "data_df[\"acq_date\"] = pd.to_datetime(data_df[\"collection_time\"])\n",
    "data_df = data_df.reset_index(drop=True)\n",
    "data_df = data_df[target_cols]"
   ]
  },
  {
   "cell_type": "code",
   "execution_count": null,
   "id": "254c01bf-4b85-4e03-8660-d1c49b32ead9",
   "metadata": {},
   "outputs": [],
   "source": [
    "data_df.to_csv(conf.data_file)"
   ]
  },
  {
   "cell_type": "code",
   "execution_count": null,
   "id": "d022faac-331a-42aa-8915-a33c3514e56e",
   "metadata": {},
   "outputs": [],
   "source": [
    "data_df[\"acq_date\"].unique()"
   ]
  }
 ],
 "metadata": {
  "kernelspec": {
   "display_name": "Python 3",
   "language": "python",
   "name": "python3"
  },
  "language_info": {
   "codemirror_mode": {
    "name": "ipython",
    "version": 3
   },
   "file_extension": ".py",
   "mimetype": "text/x-python",
   "name": "python",
   "nbconvert_exporter": "python",
   "pygments_lexer": "ipython3",
   "version": "3.8.10"
  }
 },
 "nbformat": 4,
 "nbformat_minor": 5
}
