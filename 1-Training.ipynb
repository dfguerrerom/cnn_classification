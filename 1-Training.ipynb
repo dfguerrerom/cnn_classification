{
 "cells": [
  {
   "cell_type": "code",
   "execution_count": null,
   "id": "38da0830-ed83-409a-9f1c-1bef00814499",
   "metadata": {},
   "outputs": [],
   "source": [
    "%reload_ext autoreload\n",
    "%autoreload 2\n",
    "from IPython.core.interactiveshell import InteractiveShell\n",
    "\n",
    "InteractiveShell.ast_node_interactivity = \"all\""
   ]
  },
  {
   "cell_type": "code",
   "execution_count": null,
   "id": "1ba57b68-efbb-4352-9ffe-1f8bcc46ab0a",
   "metadata": {
    "tags": []
   },
   "outputs": [],
   "source": [
    "import pandas as pd\n",
    "from config import conf\n",
    "from scripts.dataset import PlanetDataSet\n",
    "from scripts.transforms import rescale"
   ]
  },
  {
   "cell_type": "code",
   "execution_count": null,
   "id": "f16f6d8e-ad04-4bd6-ad58-c60b19af2620",
   "metadata": {},
   "outputs": [],
   "source": [
    "data_df = pd.read_csv(conf.data_file)\n",
    "data_df[\"id\"] = data_df[\"id\"].astype(str)\n",
    "data_df.columns"
   ]
  },
  {
   "cell_type": "code",
   "execution_count": null,
   "id": "11117357-0343-4145-971c-9a5b1ae72ebd",
   "metadata": {},
   "outputs": [],
   "source": [
    "data_df.head(2)"
   ]
  },
  {
   "cell_type": "markdown",
   "id": "367de3d8-19de-4b30-9f38-82dd26ca0c1c",
   "metadata": {},
   "source": [
    "## Exploring data"
   ]
  },
  {
   "cell_type": "code",
   "execution_count": null,
   "id": "c0ea5693-dad2-432f-8d01-b0fdc68c5883",
   "metadata": {},
   "outputs": [],
   "source": [
    "len(data_df)"
   ]
  },
  {
   "cell_type": "code",
   "execution_count": null,
   "id": "a46757a3-07d9-4156-b8fc-9c8805e2eddc",
   "metadata": {},
   "outputs": [],
   "source": [
    "x = data_df.sample(10)\n",
    "x;"
   ]
  },
  {
   "cell_type": "code",
   "execution_count": null,
   "id": "2e6f3c9a-a0bb-425b-a333-ed98dee0cbef",
   "metadata": {},
   "outputs": [],
   "source": [
    "planet_dataset = PlanetDataSet(\n",
    "    root=conf.train_imgs_path,\n",
    "    data_df=data_df,\n",
    "    label_col=\"pl_strata\",\n",
    "    transforms=rescale((32, 32)),\n",
    "    multilabel=False,\n",
    ")"
   ]
  },
  {
   "cell_type": "markdown",
   "id": "8c3463ab-5473-4f35-987e-87e3fcec2ad7",
   "metadata": {
    "tags": []
   },
   "source": [
    "## Transformations\n",
    "\n",
    "For optimal performances, resnet18 need input shape that are multiple of 32 and in our case we have input of size 31. So the closest input might be 32"
   ]
  },
  {
   "cell_type": "code",
   "execution_count": null,
   "id": "4a9be760-dfa0-4217-acbd-714b6dc09774",
   "metadata": {},
   "outputs": [],
   "source": [
    "%reload_ext autoreload\n",
    "%autoreload 2\n",
    "%matplotlib inline"
   ]
  },
  {
   "cell_type": "code",
   "execution_count": null,
   "id": "433a6167-6bf7-4968-9878-f55567212fa2",
   "metadata": {},
   "outputs": [],
   "source": [
    "from torchgeo.transforms import AugmentationSequential, indices\n",
    "from torch.utils.data import DataLoader"
   ]
  },
  {
   "cell_type": "code",
   "execution_count": null,
   "id": "74ce0bdb-8716-4f76-948d-f737a59466dd",
   "metadata": {},
   "outputs": [],
   "source": [
    "dataloader = DataLoader(\n",
    "    planet_dataset,\n",
    "    batch_size=4,\n",
    "    shuffle=True,\n",
    "    num_workers=0,\n",
    ")\n",
    "dataloader = iter(dataloader)\n",
    "print(f\"Number of images in dataset: {len(planet_dataset)}\")\n",
    "print(f\"Dataset Classes: {planet_dataset.classes}\")"
   ]
  },
  {
   "cell_type": "code",
   "execution_count": null,
   "id": "3f0b9d18-12c3-4611-94a9-4d5779c2268c",
   "metadata": {},
   "outputs": [],
   "source": [
    "sample = planet_dataset[807]\n",
    "x, y = sample[\"image\"], sample[\"label\"]"
   ]
  },
  {
   "cell_type": "code",
   "execution_count": null,
   "id": "ddbaae5f-35ed-4cfe-b743-25969a41de97",
   "metadata": {},
   "outputs": [],
   "source": [
    "print(x.shape, x.dtype, x.min(), x.max())\n",
    "print(y)"
   ]
  },
  {
   "cell_type": "code",
   "execution_count": null,
   "id": "ceda9731-1103-4f98-bc88-316166de1d75",
   "metadata": {},
   "outputs": [],
   "source": [
    "batch = next(dataloader)"
   ]
  },
  {
   "cell_type": "markdown",
   "id": "caa20351-1c25-45da-9f29-7259996bf1c4",
   "metadata": {},
   "source": [
    "## Training"
   ]
  },
  {
   "cell_type": "code",
   "execution_count": null,
   "id": "38ee8477-1a67-44fd-82a3-449757f90203",
   "metadata": {},
   "outputs": [],
   "source": [
    "%reload_ext autoreload\n",
    "%autoreload 2\n",
    "%matplotlib inline"
   ]
  },
  {
   "cell_type": "code",
   "execution_count": null,
   "id": "b369b14e-68e9-4bcf-b9f7-db428cf08aed",
   "metadata": {},
   "outputs": [],
   "source": [
    "SETTING_NAME = \"test_1\""
   ]
  },
  {
   "cell_type": "code",
   "execution_count": null,
   "id": "a4a9129f-82f8-485d-8b09-4a45320c3250",
   "metadata": {
    "tags": []
   },
   "outputs": [],
   "source": [
    "from scripts.model import get_settings\n",
    "\n",
    "(\n",
    "    model,\n",
    "    model_name,\n",
    "    optimizer,\n",
    "    loss_fn,\n",
    "    scheduler,\n",
    "    variable,\n",
    "    batch_size,\n",
    "    rescale_factor,\n",
    "    metadata,\n",
    ") = get_settings(SETTING_NAME)\n",
    "metadata"
   ]
  },
  {
   "cell_type": "code",
   "execution_count": null,
   "id": "5bfd0e90-bb27-4599-8806-73195ff3ec8d",
   "metadata": {},
   "outputs": [],
   "source": [
    "import pandas as pd\n",
    "from config import config_imp as conf\n",
    "from torch.utils.data import DataLoader\n",
    "from sklearn.model_selection import train_test_split\n",
    "from torchvision import transforms as T\n",
    "from scripts.transforms import normalize, rescale\n",
    "from scripts.dataset import PlanetDataSet"
   ]
  },
  {
   "cell_type": "markdown",
   "id": "247e3428-6f70-4fb7-9d82-d78ed324d36f",
   "metadata": {
    "jp-MarkdownHeadingCollapsed": true,
    "tags": []
   },
   "source": [
    "#### Subset the dataset"
   ]
  },
  {
   "cell_type": "code",
   "execution_count": null,
   "id": "69d74f3e",
   "metadata": {},
   "outputs": [],
   "source": [
    "data_df = data_df[~data_df[\"degraded_forest\"].isna()]\n",
    "data_df = data_df[data_df[\"lc_sub_tags\"] != \"Forest Plantation\"]\n",
    "data_df[\"degraded_forest\"] = data_df[\"degraded_forest\"].astype(str)\n",
    "len(data_df)"
   ]
  },
  {
   "cell_type": "markdown",
   "id": "ecb05045-0db9-401d-a8b4-138ba25b6298",
   "metadata": {
    "jp-MarkdownHeadingCollapsed": true,
    "tags": []
   },
   "source": [
    "#### Subset with downsampling"
   ]
  },
  {
   "cell_type": "code",
   "execution_count": null,
   "id": "2d090054-d9ca-42dc-84ca-be394e42a474",
   "metadata": {},
   "outputs": [],
   "source": [
    "grassland = data_df[data_df.lc_tags == \"Grassland\"].sample(60)\n",
    "forest = data_df[data_df.lc_tags == \"Forest\"].sample(60)\n",
    "other_land = data_df[data_df.lc_tags == \"Otherland\"].sample(60)\n",
    "rest = data_df[~data_df.lc_tags.isin([\"Grassland\", \"Forest\", \"Otherland\"])]\n",
    "\n",
    "data_df = pd.concat([grassland, forest, other_land, rest])\n",
    "data_df;"
   ]
  },
  {
   "cell_type": "markdown",
   "id": "9cbe5039-a726-4e7b-94ac-34a92a1240bb",
   "metadata": {},
   "source": [
    "### Create dataset"
   ]
  },
  {
   "cell_type": "code",
   "execution_count": null,
   "id": "bc91496a-58b5-459f-84a4-7f80e2937fd3",
   "metadata": {},
   "outputs": [],
   "source": [
    "transforms = T.Compose(\n",
    "    [\n",
    "        rescale((rescale_factor, rescale_factor)),\n",
    "        # normalize(mean=[0.485, 0.456, 0.406], std=[0.229, 0.224, 0.225],),\n",
    "    ]\n",
    ")"
   ]
  },
  {
   "cell_type": "code",
   "execution_count": null,
   "id": "b617da7b-a298-4530-aa69-84ab63f82b92",
   "metadata": {},
   "outputs": [],
   "source": [
    "planet_dataset = PlanetDataSet(\n",
    "    root=conf.train_imgs_path,\n",
    "    data_df=data_df,\n",
    "    label_col=variable,\n",
    "    transforms=transforms,\n",
    ")\n",
    "all_tags_dict = planet_dataset.class_to_idx\n",
    "all_tags_dict"
   ]
  },
  {
   "cell_type": "code",
   "execution_count": null,
   "id": "c5f42321-2a89-4437-89a2-282789d7ab54",
   "metadata": {},
   "outputs": [],
   "source": [
    "train_df, test_df = train_test_split(data_df, test_size=0.1)"
   ]
  },
  {
   "cell_type": "code",
   "execution_count": null,
   "id": "8e9b37ae-2022-463e-ba41-129efc4e8ecc",
   "metadata": {},
   "outputs": [],
   "source": [
    "pl_train = PlanetDataSet(\n",
    "    root=conf.train_imgs_path,\n",
    "    data_df=train_df,\n",
    "    label_col=variable,\n",
    "    transforms=transforms,\n",
    "    # multilabel=True,\n",
    "    fixed_tags=all_tags_dict,\n",
    ")\n",
    "\n",
    "pl_val = PlanetDataSet(\n",
    "    root=conf.train_imgs_path,\n",
    "    data_df=test_df,\n",
    "    label_col=variable,\n",
    "    transforms=transforms,\n",
    "    # multilabel=True,\n",
    "    fixed_tags=all_tags_dict,\n",
    ")"
   ]
  },
  {
   "cell_type": "code",
   "execution_count": null,
   "id": "90858ea0-7ee1-49a4-be2d-53d18537d06a",
   "metadata": {},
   "outputs": [],
   "source": [
    "dl_train = DataLoader(\n",
    "    pl_train,\n",
    "    batch_size=batch_size,\n",
    "    shuffle=True,\n",
    ")\n",
    "dl_val = DataLoader(\n",
    "    pl_val,\n",
    "    batch_size=batch_size,\n",
    "    shuffle=True,\n",
    ")"
   ]
  },
  {
   "cell_type": "code",
   "execution_count": null,
   "id": "5fb931c5-f48a-41f8-9583-d3e3af16d94d",
   "metadata": {},
   "outputs": [],
   "source": [
    "(next(iter(dl_train))[\"image\"].shape, next(iter(dl_train))[\"label\"].shape)"
   ]
  },
  {
   "cell_type": "code",
   "execution_count": null,
   "id": "d59b1728-f944-43f5-b84a-8a7ecb661423",
   "metadata": {},
   "outputs": [],
   "source": [
    "next(iter(dl_train))[\"label\"].squeeze()"
   ]
  },
  {
   "cell_type": "code",
   "execution_count": null,
   "id": "cb194dc9-1244-41c1-b4a9-ae71d963908f",
   "metadata": {},
   "outputs": [],
   "source": [
    "# Check each dataloader has the same ammount of labels (Only when using multilabel)\n",
    "len(next(iter(dl_train))[\"label\"][0]), len(next(iter(dl_val))[\"label\"][0])\n",
    "\n",
    "# print(len(pl_train.class_to_idx), len(pl_val.class_to_idx))"
   ]
  },
  {
   "cell_type": "markdown",
   "id": "391af304-eb32-4da1-9e75-2280b9275ed8",
   "metadata": {
    "tags": []
   },
   "source": [
    "### train the data"
   ]
  },
  {
   "cell_type": "code",
   "execution_count": null,
   "id": "b73de194-5ad5-4f7d-99b2-fd16eae485a7",
   "metadata": {},
   "outputs": [],
   "source": [
    "%reload_ext autoreload\n",
    "%autoreload 2\n",
    "%matplotlib inline\n",
    "# from IPython.core.interactiveshell import InteractiveShell\n",
    "\n",
    "# InteractiveShell.ast_node_interactivity = \"all\""
   ]
  },
  {
   "cell_type": "code",
   "execution_count": null,
   "id": "63037d5e-3ca7-409a-bb49-6d7b7015f7a3",
   "metadata": {},
   "outputs": [],
   "source": [
    "from scripts.writer import Writer\n",
    "from scripts.train import train\n",
    "from torch.autograd import Variable\n",
    "import torch"
   ]
  },
  {
   "cell_type": "code",
   "execution_count": null,
   "id": "32dd0756-8170-4add-8ab4-556022dfc1b0",
   "metadata": {},
   "outputs": [],
   "source": [
    "# Create writers to save training info accordinglt\n",
    "writer = Writer()\n",
    "writer.plot()"
   ]
  },
  {
   "cell_type": "code",
   "execution_count": null,
   "id": "c77b3995-c24f-4262-996a-20e11c15569e",
   "metadata": {},
   "outputs": [],
   "source": [
    "train(\n",
    "    SETTING_NAME,\n",
    "    num_epochs=200,\n",
    "    train_loader=dl_train,\n",
    "    val_loader=dl_val,\n",
    "    writer=writer,\n",
    ")"
   ]
  },
  {
   "cell_type": "markdown",
   "id": "fa028b7b-4a23-48be-bcb5-7a7f58675a54",
   "metadata": {
    "tags": []
   },
   "source": [
    "### Load and test a model"
   ]
  },
  {
   "cell_type": "code",
   "execution_count": null,
   "id": "3cc50bce-18ad-475c-87a4-0f100ec8160a",
   "metadata": {},
   "outputs": [],
   "source": [
    "%reload_ext autoreload\n",
    "%autoreload 2\n",
    "%matplotlib inline"
   ]
  },
  {
   "cell_type": "code",
   "execution_count": null,
   "id": "556c4f97-0ab4-4dca-9b5c-67f2e1ac86fe",
   "metadata": {},
   "outputs": [],
   "source": [
    "from config import config_imp as conf\n",
    "import torch\n",
    "from datetime import datetime"
   ]
  },
  {
   "cell_type": "code",
   "execution_count": null,
   "id": "864a88ed-acfd-470a-98dc-e9a3fae2eecf",
   "metadata": {},
   "outputs": [],
   "source": [
    "model_path = sorted(\n",
    "    list([(file.stat().st_atime, file) for file in conf.out_model_path.glob(\"*\")])\n",
    ")[-1][1]\n",
    "model_path"
   ]
  },
  {
   "cell_type": "code",
   "execution_count": null,
   "id": "f0263caf-2fe6-4e6c-85c3-72376ff2f8f0",
   "metadata": {},
   "outputs": [],
   "source": [
    "model.load_state_dict(torch.load(model_path))\n",
    "model.eval()\n",
    "model.to(\"cuda\");"
   ]
  },
  {
   "cell_type": "code",
   "execution_count": null,
   "id": "37f57e01-6ebf-4d24-99c6-a93c54413e54",
   "metadata": {},
   "outputs": [],
   "source": [
    "all_tags_dict"
   ]
  },
  {
   "cell_type": "code",
   "execution_count": null,
   "id": "99cb3570-ccd7-4686-984b-5c253458b4cf",
   "metadata": {},
   "outputs": [],
   "source": [
    "print(f\"Accuracy of the network on the {total} test images: {100 * correct // total} %\")"
   ]
  },
  {
   "cell_type": "code",
   "execution_count": null,
   "id": "6537ae93-7cbe-43b9-8a6b-4911d7bb4f2f",
   "metadata": {},
   "outputs": [],
   "source": [
    "classes = list(all_tags_dict.keys())\n",
    "\n",
    "# prepare to count predictions for each class\n",
    "correct_pred = {classname: 0 for classname in classes}\n",
    "total_pred = {classname: 0 for classname in classes}\n",
    "\n",
    "# again no gradients needed\n",
    "with torch.no_grad():\n",
    "    for sample in dl_val:\n",
    "        images, labels = sample.values()\n",
    "        labels = labels.squeeze()\n",
    "        outputs = model(images)\n",
    "        _, predictions = torch.max(outputs, 1)\n",
    "        # collect the correct predictions for each class\n",
    "        for label, prediction in zip(labels, predictions):\n",
    "            if label == prediction:\n",
    "                correct_pred[classes[label]] += 1\n",
    "            total_pred[classes[label]] += 1\n",
    "\n",
    "\n",
    "# print accuracy for each class\n",
    "for classname, correct_count in correct_pred.items():\n",
    "    accuracy = 100 * float(correct_count) / total_pred[classname]\n",
    "    print(f\"Accuracy for class: {classname:5s} is {accuracy:.1f} %\")"
   ]
  },
  {
   "cell_type": "code",
   "execution_count": null,
   "id": "9a1370ce-25fb-48ef-a3ac-93bc648ed322",
   "metadata": {},
   "outputs": [],
   "source": [
    "from config import conf\n",
    "from scripts.writer import Writer"
   ]
  },
  {
   "cell_type": "code",
   "execution_count": null,
   "id": "cb19845d-a177-48a4-a57a-aba41f4e8a1c",
   "metadata": {},
   "outputs": [],
   "source": [
    "file_path = next(iter(list(conf.out_history.glob(\"*1722*\"))))"
   ]
  },
  {
   "cell_type": "code",
   "execution_count": null,
   "id": "6ba28647-ce07-4651-bc56-b19c630bf8fc",
   "metadata": {},
   "outputs": [],
   "source": [
    "writer = Writer(\"statistics\")"
   ]
  },
  {
   "cell_type": "code",
   "execution_count": null,
   "id": "62e9c608-db45-414b-9f62-52738417b654",
   "metadata": {},
   "outputs": [],
   "source": [
    "df = writer.plot_metrics(file_path=file_path, title=\"Model 1722\")"
   ]
  },
  {
   "cell_type": "markdown",
   "id": "2083f839-892c-4d43-8117-475018e6a4f8",
   "metadata": {
    "tags": []
   },
   "source": [
    "### MNIST training"
   ]
  },
  {
   "cell_type": "code",
   "execution_count": null,
   "id": "cbab091b-f4bc-494e-85d6-ae0907e59d0b",
   "metadata": {
    "tags": []
   },
   "outputs": [],
   "source": [
    "import torch\n",
    "from torchvision.transforms import Resize\n",
    "from torchvision import datasets, transforms\n",
    "import numpy as np\n",
    "\n",
    "transform = transforms.Compose(\n",
    "    [\n",
    "        Resize((32, 32)),\n",
    "        transforms.ToTensor(),\n",
    "        transforms.Normalize((0.1307,), (0.3081,)),\n",
    "        lambda x: np.repeat(x, 3, axis=0),\n",
    "        lambda x: x.to(\"cuda\"),\n",
    "    ]\n",
    ")\n",
    "\n",
    "dataset1 = datasets.MNIST(\"../mnist\", train=True, download=True, transform=transform)\n",
    "dataset2 = datasets.MNIST(\"../mnist\", train=False, transform=transform)\n",
    "dl_train = torch.utils.data.DataLoader(dataset1, **{\"batch_size\": 128})\n",
    "dl_val = torch.utils.data.DataLoader(dataset2, **{\"batch_size\": 128})"
   ]
  },
  {
   "cell_type": "markdown",
   "id": "80c425d7-70bd-41d8-b99c-d5997ed3e06b",
   "metadata": {},
   "source": [
    "A loss function computes a value that estimates how far away the output is from the target. The main objective is to reduce the loss function's value by changing the weight vector values through backpropagation in neural networks.\n",
    "\n"
   ]
  }
 ],
 "metadata": {
  "kernelspec": {
   "display_name": "Python 3",
   "language": "python",
   "name": "python3"
  },
  "language_info": {
   "codemirror_mode": {
    "name": "ipython",
    "version": 3
   },
   "file_extension": ".py",
   "mimetype": "text/x-python",
   "name": "python",
   "nbconvert_exporter": "python",
   "pygments_lexer": "ipython3",
   "version": "3.8.10"
  }
 },
 "nbformat": 4,
 "nbformat_minor": 5
}
