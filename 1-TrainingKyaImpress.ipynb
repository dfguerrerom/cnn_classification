{
 "cells": [
  {
   "cell_type": "code",
   "execution_count": null,
   "id": "38da0830-ed83-409a-9f1c-1bef00814499",
   "metadata": {},
   "outputs": [],
   "source": [
    "%reload_ext autoreload\n",
    "%autoreload 2\n",
    "from IPython.core.interactiveshell import InteractiveShell\n",
    "\n",
    "InteractiveShell.ast_node_interactivity = \"all\""
   ]
  },
  {
   "cell_type": "code",
   "execution_count": null,
   "id": "1ba57b68-efbb-4352-9ffe-1f8bcc46ab0a",
   "metadata": {
    "tags": []
   },
   "outputs": [],
   "source": [
    "import pandas as pd\n",
    "from config import config_imp as conf\n",
    "from scripts.dataset import PlanetDataSet\n",
    "from scripts.transforms import rescale"
   ]
  },
  {
   "cell_type": "code",
   "execution_count": null,
   "id": "f16f6d8e-ad04-4bd6-ad58-c60b19af2620",
   "metadata": {},
   "outputs": [],
   "source": [
    "data_df = pd.read_csv(conf.data_file)\n",
    "data_df[\"id\"] = data_df[\"id\"].astype(str)"
   ]
  },
  {
   "cell_type": "code",
   "execution_count": null,
   "id": "3f7bb4da-9544-4ca8-ad8c-55b2c201e6eb",
   "metadata": {},
   "outputs": [],
   "source": [
    "data_df.columns"
   ]
  },
  {
   "cell_type": "code",
   "execution_count": null,
   "id": "17530212-49b9-4716-9dd7-785af0ee4d0a",
   "metadata": {},
   "outputs": [],
   "source": [
    "# below cells will set and fix a the train and test datasets\n",
    "\n",
    "# train_df, test_df = train_test_split(data_df, test_size=0.1)\n",
    "# to perform replicable and comparable results, let's fix the training and validation datasets\n",
    "# data_df[\"group\"] = None\n",
    "# data_df.loc[data_df.id.isin(train_df.id), \"group\"] = \"train_df\"\n",
    "# data_df.loc[data_df.id.isin(test_df.id), \"group\"] = \"test_df\"\n",
    "# data_df.to_csv(conf.data_file.with_name(\"img_lbls_splitted.csv\"))"
   ]
  },
  {
   "cell_type": "code",
   "execution_count": null,
   "id": "38ee8477-1a67-44fd-82a3-449757f90203",
   "metadata": {},
   "outputs": [],
   "source": [
    "%reload_ext autoreload\n",
    "%autoreload 2\n",
    "%matplotlib inline"
   ]
  },
  {
   "cell_type": "code",
   "execution_count": null,
   "id": "b369b14e-68e9-4bcf-b9f7-db428cf08aed",
   "metadata": {},
   "outputs": [],
   "source": [
    "SETTING_NAME = \"imp_test_5\""
   ]
  },
  {
   "cell_type": "code",
   "execution_count": null,
   "id": "a4a9129f-82f8-485d-8b09-4a45320c3250",
   "metadata": {
    "tags": []
   },
   "outputs": [],
   "source": [
    "from scripts.model import get_settings\n",
    "\n",
    "(\n",
    "    model,\n",
    "    model_name,\n",
    "    optimizer,\n",
    "    loss_fn,\n",
    "    scheduler,\n",
    "    variable,\n",
    "    batch_size,\n",
    "    rescale_factor,\n",
    "    metadata,\n",
    ") = get_settings(SETTING_NAME)\n",
    "metadata"
   ]
  },
  {
   "cell_type": "code",
   "execution_count": null,
   "id": "5bfd0e90-bb27-4599-8806-73195ff3ec8d",
   "metadata": {},
   "outputs": [],
   "source": [
    "import pandas as pd\n",
    "from config import config_imp as conf\n",
    "from torch.utils.data import DataLoader\n",
    "from sklearn.model_selection import train_test_split\n",
    "from torchvision import transforms as T\n",
    "from scripts.transforms import normalize, rescale\n",
    "from scripts.dataset import PlanetDataSet"
   ]
  },
  {
   "cell_type": "markdown",
   "id": "9cbe5039-a726-4e7b-94ac-34a92a1240bb",
   "metadata": {},
   "source": [
    "### Create dataset"
   ]
  },
  {
   "cell_type": "code",
   "execution_count": null,
   "id": "bc91496a-58b5-459f-84a4-7f80e2937fd3",
   "metadata": {},
   "outputs": [],
   "source": [
    "transforms = T.Compose(\n",
    "    [\n",
    "        rescale((rescale_factor, rescale_factor)),\n",
    "        # normalize(mean=[0.485, 0.456, 0.406], std=[0.229, 0.224, 0.225],),\n",
    "    ]\n",
    ")"
   ]
  },
  {
   "cell_type": "code",
   "execution_count": null,
   "id": "b617da7b-a298-4530-aa69-84ab63f82b92",
   "metadata": {},
   "outputs": [],
   "source": [
    "planet_dataset = PlanetDataSet(\n",
    "    root=conf.train_imgs_path,\n",
    "    data_df=data_df,\n",
    "    label_col=variable,\n",
    "    transforms=transforms,\n",
    ")\n",
    "all_tags_dict = planet_dataset.class_to_idx\n",
    "all_tags_dict"
   ]
  },
  {
   "cell_type": "code",
   "execution_count": null,
   "id": "8d2feee7-fcc0-45c8-9620-924884c273f3",
   "metadata": {},
   "outputs": [],
   "source": [
    "train_df = data_df[data_df.group==\"train_df\"]\n",
    "test_df = data_df[data_df.group==\"test_df\"]\n",
    "\"train_df:\", len(train_df), \"test_df:\", len(test_df)"
   ]
  },
  {
   "cell_type": "code",
   "execution_count": null,
   "id": "8e9b37ae-2022-463e-ba41-129efc4e8ecc",
   "metadata": {},
   "outputs": [],
   "source": [
    "pl_train = PlanetDataSet(\n",
    "    root=conf.train_imgs_path,\n",
    "    data_df=train_df,\n",
    "    label_col=variable,\n",
    "    transforms=transforms,\n",
    "    fixed_tags=all_tags_dict,\n",
    ")\n",
    "\n",
    "pl_val = PlanetDataSet(\n",
    "    root=conf.train_imgs_path,\n",
    "    data_df=test_df,\n",
    "    label_col=variable,\n",
    "    transforms=transforms,\n",
    "    fixed_tags=all_tags_dict,\n",
    ")"
   ]
  },
  {
   "cell_type": "code",
   "execution_count": null,
   "id": "90858ea0-7ee1-49a4-be2d-53d18537d06a",
   "metadata": {},
   "outputs": [],
   "source": [
    "dl_train = DataLoader(\n",
    "    pl_train,\n",
    "    batch_size=batch_size,\n",
    "    shuffle=True,\n",
    ")\n",
    "dl_val = DataLoader(\n",
    "    pl_val,\n",
    "    batch_size=batch_size,\n",
    "    shuffle=True,\n",
    ")"
   ]
  },
  {
   "cell_type": "code",
   "execution_count": null,
   "id": "5fb931c5-f48a-41f8-9583-d3e3af16d94d",
   "metadata": {},
   "outputs": [],
   "source": [
    "(next(iter(dl_train))[\"image\"].shape, next(iter(dl_train))[\"label\"].shape)"
   ]
  },
  {
   "cell_type": "code",
   "execution_count": null,
   "id": "d59b1728-f944-43f5-b84a-8a7ecb661423",
   "metadata": {},
   "outputs": [],
   "source": [
    "next(iter(dl_train))[\"label\"].squeeze()"
   ]
  },
  {
   "cell_type": "code",
   "execution_count": null,
   "id": "cb194dc9-1244-41c1-b4a9-ae71d963908f",
   "metadata": {},
   "outputs": [],
   "source": [
    "# Check each dataloader has the same ammount of labels (Only when using multilabel)\n",
    "len(next(iter(dl_train))[\"label\"][0]), len(next(iter(dl_val))[\"label\"][0])\n",
    "\n",
    "# print(len(pl_train.class_to_idx), len(pl_val.class_to_idx))"
   ]
  },
  {
   "cell_type": "markdown",
   "id": "391af304-eb32-4da1-9e75-2280b9275ed8",
   "metadata": {
    "tags": []
   },
   "source": [
    "### train the data"
   ]
  },
  {
   "cell_type": "code",
   "execution_count": null,
   "id": "b73de194-5ad5-4f7d-99b2-fd16eae485a7",
   "metadata": {},
   "outputs": [],
   "source": [
    "%reload_ext autoreload\n",
    "%autoreload 2"
   ]
  },
  {
   "cell_type": "code",
   "execution_count": null,
   "id": "63037d5e-3ca7-409a-bb49-6d7b7015f7a3",
   "metadata": {},
   "outputs": [],
   "source": [
    "from scripts.writer import Writer\n",
    "from scripts.train import train\n",
    "from torch.autograd import Variable\n",
    "import torch"
   ]
  },
  {
   "cell_type": "code",
   "execution_count": null,
   "id": "32dd0756-8170-4add-8ab4-556022dfc1b0",
   "metadata": {},
   "outputs": [],
   "source": [
    "# Create writers to save training info accordinglt\n",
    "writer = Writer()\n",
    "writer.plot()"
   ]
  },
  {
   "cell_type": "code",
   "execution_count": null,
   "id": "c77b3995-c24f-4262-996a-20e11c15569e",
   "metadata": {},
   "outputs": [],
   "source": [
    "train(\n",
    "    SETTING_NAME,\n",
    "    num_epochs=200,\n",
    "    train_loader=dl_train,\n",
    "    val_loader=dl_val,\n",
    "    writer=writer,\n",
    ")"
   ]
  },
  {
   "cell_type": "markdown",
   "id": "fa028b7b-4a23-48be-bcb5-7a7f58675a54",
   "metadata": {
    "tags": []
   },
   "source": [
    "### Load and test a model"
   ]
  },
  {
   "cell_type": "code",
   "execution_count": null,
   "id": "3cc50bce-18ad-475c-87a4-0f100ec8160a",
   "metadata": {},
   "outputs": [],
   "source": [
    "%reload_ext autoreload\n",
    "%autoreload 2\n",
    "%matplotlib inline"
   ]
  },
  {
   "cell_type": "code",
   "execution_count": null,
   "id": "556c4f97-0ab4-4dca-9b5c-67f2e1ac86fe",
   "metadata": {},
   "outputs": [],
   "source": [
    "from config import config_imp as conf\n",
    "import torch\n",
    "from datetime import datetime\n",
    "from pathlib import Path\n",
    "from scripts.writer import Writer"
   ]
  },
  {
   "cell_type": "code",
   "execution_count": null,
   "id": "864a88ed-acfd-470a-98dc-e9a3fae2eecf",
   "metadata": {},
   "outputs": [],
   "source": [
    "model_path = sorted(\n",
    "    list([(file.stat().st_atime, file) for file in conf.out_model_path.glob(\"*\")])\n",
    ")[-1][1]"
   ]
  },
  {
   "cell_type": "code",
   "execution_count": null,
   "id": "3ea81b8a-4e6a-4ab7-8428-e7670134583a",
   "metadata": {},
   "outputs": [],
   "source": [
    "history_file = (conf.out_history/model_path.name).with_suffix(\".csv\")"
   ]
  },
  {
   "cell_type": "code",
   "execution_count": null,
   "id": "384604cc-43df-40d3-b6a1-c21835e202c4",
   "metadata": {},
   "outputs": [],
   "source": [
    "writer = Writer()\n",
    "writer.model_name = str(history_file.stem)\n",
    "writer.load_data(history_file)"
   ]
  },
  {
   "cell_type": "code",
   "execution_count": null,
   "id": "f0263caf-2fe6-4e6c-85c3-72376ff2f8f0",
   "metadata": {},
   "outputs": [],
   "source": [
    "model.load_state_dict(torch.load(model_path))\n",
    "model.eval()\n",
    "model.to(\"cuda\");"
   ]
  },
  {
   "cell_type": "code",
   "execution_count": null,
   "id": "37f57e01-6ebf-4d24-99c6-a93c54413e54",
   "metadata": {},
   "outputs": [],
   "source": [
    "all_tags_dict"
   ]
  },
  {
   "cell_type": "code",
   "execution_count": null,
   "id": "6537ae93-7cbe-43b9-8a6b-4911d7bb4f2f",
   "metadata": {},
   "outputs": [],
   "source": [
    "classes = list(all_tags_dict.keys())\n",
    "\n",
    "# prepare to count predictions for each class\n",
    "correct_pred = {classname: 0 for classname in classes}\n",
    "total_pred = {classname: 0 for classname in classes}\n",
    "\n",
    "# again no gradients needed\n",
    "with torch.no_grad():\n",
    "    for sample in dl_val:\n",
    "        images, labels = sample.values()\n",
    "        labels = labels.squeeze()\n",
    "        outputs = model(images)\n",
    "        _, predictions = torch.max(outputs, 1)\n",
    "        # collect the correct predictions for each class\n",
    "        for label, prediction in zip(labels, predictions):\n",
    "            if label == prediction:\n",
    "                correct_pred[classes[label]] += 1\n",
    "            total_pred[classes[label]] += 1\n",
    "\n",
    "\n",
    "# print accuracy for each class\n",
    "for classname, correct_count in correct_pred.items():\n",
    "    accuracy = 100 * float(correct_count) / total_pred[classname]\n",
    "    print(f\"Accuracy for class: {classname:5s} is {accuracy:.1f} %\")"
   ]
  },
  {
   "cell_type": "code",
   "execution_count": null,
   "id": "76a949c6-d195-4f1c-b990-51726877c530",
   "metadata": {},
   "outputs": [],
   "source": [
    "images.shape"
   ]
  }
 ],
 "metadata": {
  "kernelspec": {
   "display_name": "Python 3",
   "language": "python",
   "name": "python3"
  },
  "language_info": {
   "codemirror_mode": {
    "name": "ipython",
    "version": 3
   },
   "file_extension": ".py",
   "mimetype": "text/x-python",
   "name": "python",
   "nbconvert_exporter": "python",
   "pygments_lexer": "ipython3",
   "version": "3.8.10"
  }
 },
 "nbformat": 4,
 "nbformat_minor": 5
}
