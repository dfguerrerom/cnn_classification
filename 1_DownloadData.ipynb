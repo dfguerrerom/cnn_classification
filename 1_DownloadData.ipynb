{
 "cells": [
  {
   "cell_type": "markdown",
   "id": "4010d476-f453-410a-9404-0db18cebebd2",
   "metadata": {
    "tags": []
   },
   "source": [
    "## Download patches from planet using GEE\n",
    "\n",
    "Based on https://gist.github.com/gorelick-google/4c015b79119ef85313b8bef6d654e2d9"
   ]
  },
  {
   "cell_type": "code",
   "execution_count": null,
   "id": "5e38ba11-829a-4189-a9b0-665862c3bfc1",
   "metadata": {},
   "outputs": [],
   "source": [
    "import ee\n",
    "import logging\n",
    "import multiprocessing\n",
    "import requests\n",
    "import shutil\n",
    "import backoff\n",
    "from retry import retry\n",
    "from pathlib import Path\n",
    "\n",
    "ee.Initialize(opt_url='https://earthengine-highvolume.googleapis.com')"
   ]
  },
  {
   "cell_type": "code",
   "execution_count": null,
   "id": "ab6985e5-f7cf-4d05-ba3d-db89606f445e",
   "metadata": {},
   "outputs": [],
   "source": [
    "@retry(tries=10, delay=1, backoff=2)\n",
    "def getResult(_, feature):\n",
    "    \"\"\"Handle the HTTP requests to download an image.\"\"\"\n",
    "\n",
    "    # Generate the desired image from the given point.\n",
    "    region = ee.Feature(feature).geometry()\n",
    "    name = feature[\"properties\"][\"id\"]\n",
    "    \n",
    "    image = (\n",
    "        planet_afk.filter(ee.Filter.date(\"2019-01-01\", \"2019-12-31\"))\n",
    "          .mean()\n",
    "    ).clip(region)\n",
    "    \n",
    "    # Fetch the URL from which to download the image.\n",
    "    url = image.getDownloadURL({\"scale\": 4.77, \"region\":image.geometry(), \"format\":\"GEO_TIFF\"})\n",
    "    \n",
    "    # Handle downloading the actual pixels.\n",
    "    r = requests.get(url, stream=True)\n",
    "    if r.status_code != 200:\n",
    "        r.raise_for_status()\n",
    "\n",
    "    file_path = (Path.home()/\"1_modules/4_MultiLabel/train-tif-ce/fn\").with_name(f\"{name}.tif\")\n",
    "    \n",
    "    with open(file_path, 'wb') as out_file:\n",
    "        shutil.copyfileobj(r.raw, out_file)\n",
    "    \n",
    "    print(\"Done: \", name)\n"
   ]
  },
  {
   "cell_type": "code",
   "execution_count": null,
   "id": "fe429fc5-cad5-4a32-bb96-72f53a52a93b",
   "metadata": {},
   "outputs": [],
   "source": [
    "table = ee.FeatureCollection(\"projects/planet-afk/assets/kenya_points2\")\n",
    "planet_afk = ee.ImageCollection(\"projects/planet-nicfi/assets/basemaps/africa\")\n",
    "plots = table.map(lambda center: center.buffer(70.710).bounds())"
   ]
  },
  {
   "cell_type": "code",
   "execution_count": null,
   "id": "213f2b6e-544a-4b5d-a823-8094a02d9a8c",
   "metadata": {},
   "outputs": [],
   "source": [
    "# This is an awful way to extract the features, but it works\n",
    "# I didn't want to create the geometries in pandas, I wanted to use GEE.\n",
    "f5000 = ee.FeatureCollection(plots.toList(5000)).getInfo()\n",
    "f5000_10000 = ee.FeatureCollection(plots.toList(5000, 5000)).getInfo()\n",
    "f10000_10810 = ee.FeatureCollection(plots.toList(810, 10000)).getInfo()\n",
    "f5000[\"features\"] = f5000[\"features\"]+f5000_10000[\"features\"]+f10000_10810[\"features\"]\n",
    "features = f5000[\"features\"].copy()\n",
    "features[:5]"
   ]
  },
  {
   "cell_type": "code",
   "execution_count": null,
   "id": "3c79a44e-e38b-431d-b937-ca35bee2fd86",
   "metadata": {},
   "outputs": [],
   "source": [
    "if __name__ == '__main__':\n",
    "    \n",
    "    logging.basicConfig()\n",
    "    pool = multiprocessing.Pool(25)\n",
    "    pool.starmap(getResult, enumerate(features))\n",
    "    pool.close()"
   ]
  }
 ],
 "metadata": {
  "kernelspec": {
   "display_name": "Python 3",
   "language": "python",
   "name": "python3"
  },
  "language_info": {
   "codemirror_mode": {
    "name": "ipython",
    "version": 3
   },
   "file_extension": ".py",
   "mimetype": "text/x-python",
   "name": "python",
   "nbconvert_exporter": "python",
   "pygments_lexer": "ipython3",
   "version": "3.8.10"
  }
 },
 "nbformat": 4,
 "nbformat_minor": 5
}
