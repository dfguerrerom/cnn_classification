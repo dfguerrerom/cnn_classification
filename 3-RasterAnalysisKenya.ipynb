{
 "cells": [
  {
   "cell_type": "code",
   "execution_count": null,
   "metadata": {},
   "outputs": [],
   "source": [
    "%reload_ext autoreload\n",
    "%autoreload 2"
   ]
  },
  {
   "cell_type": "code",
   "execution_count": null,
   "metadata": {},
   "outputs": [],
   "source": [
    "from importlib import reload\n",
    "from config import config_imp as conf\n",
    "import scripts.raster_analysis as ras\n",
    "from scripts.model import get_settings, get_prediction_settings\n",
    "import rasterio as rio\n",
    "import torch"
   ]
  },
  {
   "cell_type": "code",
   "execution_count": null,
   "metadata": {},
   "outputs": [],
   "source": [
    "SETTING_NAME = \"imp_test_1\"\n",
    "(\n",
    "    model,\n",
    "    model_name,\n",
    "    optimizer,\n",
    "    loss_fn,\n",
    "    scheduler,\n",
    "    variable,\n",
    "    batch_size,\n",
    "    rescale_factor,\n",
    "    metadata,\n",
    ") = get_settings(SETTING_NAME)\n",
    "\n",
    "stride, width, height, batch_size, pred_metadata = get_prediction_settings(SETTING_NAME)\n",
    "metadata"
   ]
  },
  {
   "cell_type": "code",
   "execution_count": null,
   "metadata": {},
   "outputs": [],
   "source": [
    "model_path = sorted(\n",
    "    list([(file.stat().st_atime, file) for file in conf.out_model_path.glob(\"*9911*\")])\n",
    ")[-1][1]\n",
    "model_path.name"
   ]
  },
  {
   "cell_type": "code",
   "execution_count": null,
   "metadata": {},
   "outputs": [],
   "source": [
    "model.load_state_dict(torch.load(model_path))\n",
    "model.eval()\n",
    "model.to(\"cuda\");"
   ]
  },
  {
   "cell_type": "code",
   "execution_count": null,
   "metadata": {},
   "outputs": [],
   "source": [
    "all_files = list(conf.imgs_to_predict.glob(f\"planet*.tif\"))\n",
    "len(all_files)"
   ]
  },
  {
   "cell_type": "code",
   "execution_count": null,
   "metadata": {
    "tags": []
   },
   "outputs": [],
   "source": [
    "for image_path in all_files:\n",
    "    \n",
    "    output_name = image_path.with_name(f\"pred_{image_path.stem}_strd{stride}.tif\").name\n",
    "    output_file = conf.out_prediction/output_name\n",
    "\n",
    "    with rio.open(image_path) as img:\n",
    "        \n",
    "        profile = img.profile\n",
    "        mask = ras.detect(\n",
    "            model, img, width=width, height=height, stride=stride, batch_size=batch_size\n",
    "        )\n",
    "        ras.save_mask(mask, profile, output_file)"
   ]
  }
 ],
 "metadata": {
  "kernelspec": {
   "display_name": "Python 3",
   "language": "python",
   "name": "python3"
  },
  "language_info": {
   "codemirror_mode": {
    "name": "ipython",
    "version": 3
   },
   "file_extension": ".py",
   "mimetype": "text/x-python",
   "name": "python",
   "nbconvert_exporter": "python",
   "pygments_lexer": "ipython3",
   "version": "3.8.10"
  }
 },
 "nbformat": 4,
 "nbformat_minor": 4
}
